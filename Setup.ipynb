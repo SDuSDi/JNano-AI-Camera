{
 "cells": [
  {
   "cell_type": "markdown",
   "id": "565b1b26-5e96-47a3-bb95-6d5fa07f45eb",
   "metadata": {},
   "source": [
    "# Folder Setup"
   ]
  },
  {
   "cell_type": "code",
   "execution_count": 1,
   "id": "16eea730-288b-4773-8576-a40ccc6c8914",
   "metadata": {},
   "outputs": [],
   "source": [
    "import os"
   ]
  },
  {
   "cell_type": "markdown",
   "id": "e74a4cfe-342e-4fcb-8b49-b609c80485e3",
   "metadata": {},
   "source": [
    "#### Models"
   ]
  },
  {
   "cell_type": "code",
   "execution_count": 2,
   "id": "d08ccf69-016a-49cf-bdf4-3f121bdc2999",
   "metadata": {},
   "outputs": [
    {
     "name": "stdout",
     "output_type": "stream",
     "text": [
      "Nested folders './models/MNIST/' already exist.\n",
      "Nested folders './models/FashionMNIST/' already exist.\n",
      "Nested folders './models/ResNet18/' already exist.\n",
      "Nested folders './models/ResNet50/' already exist.\n",
      "Nested folders './models/ResNet152/' already exist.\n"
     ]
    }
   ],
   "source": [
    "def create_path(folder_path):\n",
    "    if not os.path.exists(folder_path):\n",
    "        os.makedirs(folder_path)\n",
    "        print(f\"Nested folders '{folder_path}' created.\")\n",
    "    else:\n",
    "        print(f\"Nested folders '{folder_path}' already exist.\")\n",
    "\n",
    "create_path('./models/MNIST/')\n",
    "create_path('./models/FashionMNIST/')\n",
    "create_path('./models/ResNet18/')\n",
    "create_path('./models/ResNet50/')\n",
    "create_path('./models/ResNet152/')"
   ]
  },
  {
   "cell_type": "markdown",
   "id": "b3a097e1-2aba-4c1f-989f-f7c22fe10429",
   "metadata": {},
   "source": [
    "#### MNIST"
   ]
  },
  {
   "cell_type": "code",
   "execution_count": 3,
   "id": "4fef1d53-2744-48d4-8d8a-573e6ff69f54",
   "metadata": {},
   "outputs": [
    {
     "name": "stdout",
     "output_type": "stream",
     "text": [
      "Nested folders './MNIST/' already exist.\n"
     ]
    }
   ],
   "source": [
    "def create_path(folder_path):\n",
    "    if not os.path.exists(folder_path):\n",
    "        os.makedirs(folder_path)\n",
    "        print(f\"Nested folders '{folder_path}' created.\")\n",
    "    else:\n",
    "        print(f\"Nested folders '{folder_path}' already exist.\")\n",
    "\n",
    "create_path('./MNIST/')"
   ]
  },
  {
   "cell_type": "markdown",
   "id": "8591486e-62e0-4c6c-9330-6d3532cddee4",
   "metadata": {},
   "source": [
    "#### Fashion-MNIST"
   ]
  },
  {
   "cell_type": "code",
   "execution_count": 4,
   "id": "abaf6a18-4b59-4f72-91d6-41e64be8b410",
   "metadata": {},
   "outputs": [
    {
     "name": "stdout",
     "output_type": "stream",
     "text": [
      "Nested folders './Fashion-MNIST/' already exist.\n"
     ]
    }
   ],
   "source": [
    "def create_path(folder_path):\n",
    "    if not os.path.exists(folder_path):\n",
    "        os.makedirs(folder_path)\n",
    "        print(f\"Nested folders '{folder_path}' created.\")\n",
    "    else:\n",
    "        print(f\"Nested folders '{folder_path}' already exist.\")\n",
    "\n",
    "create_path('./Fashion-MNIST/')"
   ]
  }
 ],
 "metadata": {
  "kernelspec": {
   "display_name": "Python 3 (ipykernel)",
   "language": "python",
   "name": "python3"
  },
  "language_info": {
   "codemirror_mode": {
    "name": "ipython",
    "version": 3
   },
   "file_extension": ".py",
   "mimetype": "text/x-python",
   "name": "python",
   "nbconvert_exporter": "python",
   "pygments_lexer": "ipython3",
   "version": "3.10.12"
  }
 },
 "nbformat": 4,
 "nbformat_minor": 5
}

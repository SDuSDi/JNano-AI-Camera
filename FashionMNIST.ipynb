{
 "cells": [
  {
   "cell_type": "markdown",
   "id": "33b4fe19-466f-44cc-9c66-6c7fd158c0be",
   "metadata": {},
   "source": [
    "# Fashion-MNIST Notebook"
   ]
  },
  {
   "cell_type": "markdown",
   "id": "c521746e-3e7f-4b4b-9969-7e0470ea063c",
   "metadata": {},
   "source": [
    "## Original Model Definition"
   ]
  },
  {
   "cell_type": "code",
   "execution_count": 1,
   "id": "246309ff-9cd9-4f16-8563-de60a1d431bb",
   "metadata": {},
   "outputs": [],
   "source": [
    "import torch\n",
    "import torch.nn as nn\n",
    "import torch.optim as optim\n",
    "from torch.utils.data import DataLoader, random_split\n",
    "from torchvision import datasets, transforms\n",
    "import numpy as np\n",
    "import os\n",
    "import matplotlib.pyplot as plt\n",
    "\n",
    "from torch.ao.quantization.fake_quantize import FakeQuantize\n",
    "from torch.ao.quantization.observer import HistogramObserver, MovingAverageMinMaxObserver, MovingAveragePerChannelMinMaxObserver\n",
    "from torch.ao.quantization.qconfig import QConfig\n",
    "import torch.ao.quantization as quantization"
   ]
  },
  {
   "cell_type": "code",
   "execution_count": 2,
   "id": "d9982a77-5830-4740-8442-8b06a736f33f",
   "metadata": {},
   "outputs": [],
   "source": [
    "batch_size = 64\n",
    "transform = transforms.Compose([transforms.ToTensor()])\n",
    "\n",
    "train_dataset = datasets.FashionMNIST(root='./Fashion-MNIST/data', train=True, download=True, transform=transform)\n",
    "test_dataset = datasets.FashionMNIST(root='./Fashion-MNIST/data', train=False, download=True, transform=transform)\n",
    "\n",
    "train_size = int(0.8 * len(train_dataset))\n",
    "val_size = len(train_dataset) - train_size\n",
    "train_dataset, val_dataset = random_split(train_dataset, [train_size, val_size])\n",
    "\n",
    "train_loader = DataLoader(train_dataset, batch_size=batch_size, shuffle=True)\n",
    "val_loader = DataLoader(val_dataset, batch_size=batch_size, shuffle=False)\n",
    "test_loader = DataLoader(test_dataset, batch_size=batch_size, shuffle=False)"
   ]
  },
  {
   "cell_type": "code",
   "execution_count": 3,
   "id": "77c09c6c-e54c-4aa8-a297-d6bf9a97964c",
   "metadata": {},
   "outputs": [],
   "source": [
    "class FashionNN(nn.Module):\n",
    "    def __init__(self):\n",
    "        super(FashionNN, self).__init__()\n",
    "        \n",
    "        self.layer1 = nn.Sequential(\n",
    "            nn.Conv2d(in_channels=1, out_channels=32, kernel_size=3, padding=1),\n",
    "            nn.BatchNorm2d(32),\n",
    "            nn.ReLU(),\n",
    "            nn.MaxPool2d(kernel_size=2, stride=2)\n",
    "        )\n",
    "        \n",
    "        self.layer2 = nn.Sequential(\n",
    "            nn.Conv2d(in_channels=32, out_channels=64, kernel_size=3),\n",
    "            nn.BatchNorm2d(64),\n",
    "            nn.ReLU(),\n",
    "            nn.MaxPool2d(2)\n",
    "        )\n",
    "        \n",
    "        self.fc1 = nn.Linear(in_features=64*6*6, out_features=600)\n",
    "        self.drop = nn.Dropout2d(0.25)\n",
    "        self.fc2 = nn.Linear(in_features=600, out_features=10)\n",
    "        \n",
    "    def forward(self, x):\n",
    "        out = self.layer1(x)\n",
    "        out = self.layer2(out)\n",
    "        out = out.view(out.size(0), -1)\n",
    "        out = self.fc1(out)\n",
    "        out = self.drop(out)\n",
    "        out = self.fc2(out)\n",
    "        return out"
   ]
  },
  {
   "cell_type": "code",
   "execution_count": 4,
   "id": "cff968ee-2501-41f1-814b-68825995c0cc",
   "metadata": {},
   "outputs": [],
   "source": [
    "def train(optimizer, criteria, epoch, log_interval=((len(train_loader.dataset)/batch_size)/2)-1):\n",
    "    model.train()\n",
    "    \n",
    "    for batch_idx, (images, labels) in enumerate(train_loader):\n",
    "        optimizer.zero_grad()\n",
    "        output = model(images)\n",
    "        loss = criteria(output, labels)\n",
    "        loss.backward()\n",
    "        optimizer.step()\n",
    "\n",
    "        if batch_idx % log_interval == 0:\n",
    "            print('Train Epoch: {} [{}/{} ({:.0f}%)]\\tLoss: {:.6f}'.format(epoch, batch_idx * len(images), len(train_loader.dataset), 100. * batch_idx / len(train_loader), loss.item()))\n",
    "\n",
    "def validate():\n",
    "    model.eval()\n",
    "    \n",
    "    correct = 0\n",
    "    with torch.no_grad():\n",
    "        for images, labels in val_loader:\n",
    "            output = model(images)\n",
    "            predicted = output.data.max(1, keepdim=True)[1]\n",
    "            correct += predicted.eq(labels.data.view_as(predicted)).sum()\n",
    "\n",
    "    print('\\nValidation Set Accuracy: {}/{} ({:.2f}%)\\n'.format(correct, len(val_loader.dataset), 100. * correct / len(val_loader.dataset)))"
   ]
  },
  {
   "cell_type": "code",
   "execution_count": 5,
   "id": "085a39f3-7f0b-46cd-94a0-76863de6f380",
   "metadata": {},
   "outputs": [
    {
     "name": "stderr",
     "output_type": "stream",
     "text": [
      "/home/brais.martinez/.local/lib/python3.10/site-packages/torch/nn/functional.py:1374: UserWarning: dropout2d: Received a 2-D input to dropout2d, which is deprecated and will result in an error in a future release. To retain the behavior and silence this warning, please use dropout instead. Note that dropout2d exists to provide channel-wise dropout on inputs with 2 spatial dimensions, a channel dimension, and an optional batch dimension (i.e. 3D or 4D inputs).\n",
      "  warnings.warn(warn_msg)\n"
     ]
    },
    {
     "name": "stdout",
     "output_type": "stream",
     "text": [
      "Train Epoch: 0 [0/48000 (0%)]\tLoss: 2.323547\n",
      "Train Epoch: 0 [23936/48000 (50%)]\tLoss: 0.350894\n",
      "Train Epoch: 0 [47872/48000 (100%)]\tLoss: 0.256623\n",
      "\n",
      "Validation Set Accuracy: 10669/12000 (88.91%)\n",
      "\n",
      "Train Epoch: 1 [0/48000 (0%)]\tLoss: 0.241340\n",
      "Train Epoch: 1 [23936/48000 (50%)]\tLoss: 0.240040\n",
      "Train Epoch: 1 [47872/48000 (100%)]\tLoss: 0.232930\n",
      "\n",
      "Validation Set Accuracy: 10798/12000 (89.98%)\n",
      "\n",
      "Train Epoch: 2 [0/48000 (0%)]\tLoss: 0.199972\n",
      "Train Epoch: 2 [23936/48000 (50%)]\tLoss: 0.282907\n",
      "Train Epoch: 2 [47872/48000 (100%)]\tLoss: 0.216578\n",
      "\n",
      "Validation Set Accuracy: 10766/12000 (89.72%)\n",
      "\n",
      "Train Epoch: 3 [0/48000 (0%)]\tLoss: 0.272960\n",
      "Train Epoch: 3 [23936/48000 (50%)]\tLoss: 0.242984\n",
      "Train Epoch: 3 [47872/48000 (100%)]\tLoss: 0.225624\n",
      "\n",
      "Validation Set Accuracy: 10968/12000 (91.40%)\n",
      "\n",
      "Train Epoch: 4 [0/48000 (0%)]\tLoss: 0.149722\n",
      "Train Epoch: 4 [23936/48000 (50%)]\tLoss: 0.241193\n",
      "Train Epoch: 4 [47872/48000 (100%)]\tLoss: 0.176599\n",
      "\n",
      "Validation Set Accuracy: 10929/12000 (91.07%)\n",
      "\n",
      "Train Epoch: 5 [0/48000 (0%)]\tLoss: 0.284655\n",
      "Train Epoch: 5 [23936/48000 (50%)]\tLoss: 0.247622\n",
      "Train Epoch: 5 [47872/48000 (100%)]\tLoss: 0.233790\n",
      "\n",
      "Validation Set Accuracy: 10976/12000 (91.47%)\n",
      "\n",
      "Train Epoch: 6 [0/48000 (0%)]\tLoss: 0.119892\n",
      "Train Epoch: 6 [23936/48000 (50%)]\tLoss: 0.233101\n",
      "Train Epoch: 6 [47872/48000 (100%)]\tLoss: 0.135579\n",
      "\n",
      "Validation Set Accuracy: 10795/12000 (89.96%)\n",
      "\n",
      "Train Epoch: 7 [0/48000 (0%)]\tLoss: 0.178939\n",
      "Train Epoch: 7 [23936/48000 (50%)]\tLoss: 0.154706\n",
      "Train Epoch: 7 [47872/48000 (100%)]\tLoss: 0.318081\n",
      "\n",
      "Validation Set Accuracy: 10996/12000 (91.63%)\n",
      "\n",
      "Train Epoch: 8 [0/48000 (0%)]\tLoss: 0.102841\n",
      "Train Epoch: 8 [23936/48000 (50%)]\tLoss: 0.134985\n",
      "Train Epoch: 8 [47872/48000 (100%)]\tLoss: 0.055653\n",
      "\n",
      "Validation Set Accuracy: 10951/12000 (91.26%)\n",
      "\n",
      "Train Epoch: 9 [0/48000 (0%)]\tLoss: 0.075394\n",
      "Train Epoch: 9 [23936/48000 (50%)]\tLoss: 0.087479\n",
      "Train Epoch: 9 [47872/48000 (100%)]\tLoss: 0.108428\n",
      "\n",
      "Validation Set Accuracy: 10963/12000 (91.36%)\n",
      "\n"
     ]
    }
   ],
   "source": [
    "model = FashionNN()\n",
    "\n",
    "criteria = nn.CrossEntropyLoss()\n",
    "optimizer = torch.optim.Adam(model.parameters(), lr=0.001)\n",
    "\n",
    "epochs = 10\n",
    "for epoch in range(epochs):\n",
    "    train(optimizer, criteria, epoch)\n",
    "    validate()"
   ]
  },
  {
   "cell_type": "code",
   "execution_count": 6,
   "id": "ebf5b629-6dca-47ad-aa5c-0b71f3388c69",
   "metadata": {},
   "outputs": [
    {
     "name": "stdout",
     "output_type": "stream",
     "text": [
      "\n",
      "Test set: Avg. loss: 0.004613, Accuracy: 9060/10000 (90.60%)\n",
      "\n"
     ]
    }
   ],
   "source": [
    "def test(network, criteria):\n",
    "    network.eval()\n",
    "    \n",
    "    test_loss = 0\n",
    "    correct = 0\n",
    "    with torch.no_grad():\n",
    "        for images, labels in test_loader:\n",
    "            output = network(images)\n",
    "            test_loss += criteria(output, labels).item()\n",
    "            pred = output.data.max(1, keepdim=True)[1]\n",
    "            correct += pred.eq(labels.data.view_as(pred)).sum()\n",
    "    test_loss /= len(test_loader.dataset)\n",
    "    print('\\nTest set: Avg. loss: {:.6f}, Accuracy: {}/{} ({:.2f}%)\\n'.format(test_loss, correct, len(test_loader.dataset), 0100. * correct / len(test_loader.dataset)))\n",
    "\n",
    "torch.save(model.state_dict() , './models/FashionMNIST/original_model.pth')\n",
    "test(model, criteria)"
   ]
  },
  {
   "cell_type": "code",
   "execution_count": 7,
   "id": "1fb0fc3b-04b2-4971-8ec3-156adfe4f7ff",
   "metadata": {},
   "outputs": [
    {
     "data": {
      "image/png": "[encoded data removed]",
      "text/plain": [
       "<Figure size 1000x600 with 1 Axes>"
      ]
     },
     "metadata": {},
     "output_type": "display_data"
    }
   ],
   "source": [
    "def show_weights(network, name):\n",
    "    weights = []\n",
    "    for param in network.parameters():\n",
    "        if param.requires_grad:\n",
    "            weights.extend(param.detach().cpu().numpy().flatten())\n",
    "    \n",
    "    plt.figure(figsize=(10, 6))\n",
    "    plt.hist(weights, bins=50, edgecolor='black')\n",
    "    plt.title('Weights Distribution - {}'.format(name))\n",
    "    plt.xlabel('Weight Value')\n",
    "    plt.ylabel('Frecuency')\n",
    "    plt.grid(True)\n",
    "    plt.show()\n",
    "\n",
    "show_weights(model,\"Original Model\")"
   ]
  },
  {
   "cell_type": "markdown",
   "id": "1da9daed-55b8-4677-8990-064cb93b71a4",
   "metadata": {},
   "source": [
    "## Pytorch Post-Training Quantization (8 bits)"
   ]
  },
  {
   "cell_type": "code",
   "execution_count": 8,
   "id": "9e407d8f-688b-4ac4-8c7c-9a742842f05a",
   "metadata": {},
   "outputs": [],
   "source": [
    "ptq_model_8bit = torch.quantization.quantize_dynamic(model, {nn.Linear, nn.Conv2d, nn.BatchNorm2d, nn.MaxPool2d}, dtype=torch.qint8)\n",
    "torch.save(ptq_model_8bit.state_dict(), './models/FashionMNIST/ptq_model_8bit.pth')"
   ]
  },
  {
   "cell_type": "code",
   "execution_count": 9,
   "id": "89a2796f-e36f-4ce6-8522-3b61dec8cd21",
   "metadata": {},
   "outputs": [
    {
     "name": "stdout",
     "output_type": "stream",
     "text": [
      "Float model: 5.378MB\n",
      "Quantized model: 1.407MB\n"
     ]
    }
   ],
   "source": [
    "float_model_size = os.path.getsize('./models/FashionMNIST/original_model.pth') / 1024**2\n",
    "quant_model_size = os.path.getsize('./models/FashionMNIST/ptq_model_8bit.pth') / 1024**2\n",
    "\n",
    "print(\"Float model: {:.3f}MB\".format(float_model_size))\n",
    "print(\"Quantized model: {:.3f}MB\".format(quant_model_size))"
   ]
  },
  {
   "cell_type": "code",
   "execution_count": 10,
   "id": "a31480ed-b25d-42b8-b6d4-87525330e993",
   "metadata": {},
   "outputs": [
    {
     "name": "stdout",
     "output_type": "stream",
     "text": [
      "\n",
      "Test set: Avg. loss: 0.004619, Accuracy: 9053/10000 (90.53%)\n",
      "\n"
     ]
    }
   ],
   "source": [
    "test(ptq_model_8bit, criteria)"
   ]
  },
  {
   "cell_type": "code",
   "execution_count": 11,
   "id": "8f30dd80-ef84-4d29-bfaf-bfe24f719832",
   "metadata": {},
   "outputs": [
    {
     "data": {
      "image/png": "[encoded data removed]",
      "text/plain": [
       "<Figure size 1000x600 with 1 Axes>"
      ]
     },
     "metadata": {},
     "output_type": "display_data"
    }
   ],
   "source": [
    "def show_quantized_weights(network, title):\n",
    "    weights = []\n",
    "    for name, module in network.named_modules():\n",
    "        if isinstance(module, torch.nn.quantized.Linear) or isinstance(module, torch.nn.quantized.Conv2d):\n",
    "            weight = module.weight()\n",
    "            weights.extend(weight.int_repr().flatten().cpu().numpy())\n",
    "    plt.figure(figsize=(10, 6))\n",
    "    plt.hist(weights, bins=50, edgecolor='black')\n",
    "    plt.title('Distribution of Quantized Weights - {}'.format(title))\n",
    "    plt.xlabel('Cuantized Weight Value')\n",
    "    plt.ylabel('Frecuency')\n",
    "    plt.grid(True)\n",
    "    plt.show()\n",
    "\n",
    "show_quantized_weights(ptq_model_8bit,\"Quantized PTQ 8 bit Model\")"
   ]
  },
  {
   "cell_type": "markdown",
   "id": "d098072e-72c7-4544-b631-91000f5ed89d",
   "metadata": {},
   "source": [
    "## Pytorch Quantization Aware Training (8 bits)"
   ]
  },
  {
   "cell_type": "code",
   "execution_count": 12,
   "id": "e198eb81-1ced-4e66-9e49-6a6d533be12f",
   "metadata": {},
   "outputs": [],
   "source": [
    "import torch\n",
    "import torch.nn as nn\n",
    "import torch.optim as optim\n",
    "from torch.utils.data import DataLoader, random_split\n",
    "from torchvision import datasets, transforms\n",
    "import numpy as np\n",
    "import os\n",
    "import matplotlib.pyplot as plt\n",
    "\n",
    "from torch.ao.quantization.fake_quantize import FakeQuantize\n",
    "from torch.ao.quantization.observer import HistogramObserver, MovingAverageMinMaxObserver, MovingAveragePerChannelMinMaxObserver\n",
    "from torch.ao.quantization.qconfig import QConfig\n",
    "import torch.ao.quantization as quantization"
   ]
  },
  {
   "cell_type": "code",
   "execution_count": 13,
   "id": "591923a6-37ac-4dfa-9bd5-d7bc3c463142",
   "metadata": {},
   "outputs": [],
   "source": [
    "class QuantAwareFashionNN(nn.Module):\n",
    "    def __init__(self):\n",
    "        super(QuantAwareFashionNN, self).__init__()\n",
    "        self.quant = quantization.QuantStub()\n",
    "        self.layer1 = nn.Sequential(\n",
    "            nn.Conv2d(in_channels=1, out_channels=32, kernel_size=3, padding=1),\n",
    "            nn.BatchNorm2d(32),\n",
    "            nn.ReLU(),\n",
    "            nn.MaxPool2d(kernel_size=2, stride=2)\n",
    "        )\n",
    "        self.layer2 = nn.Sequential(\n",
    "            nn.Conv2d(in_channels=32, out_channels=64, kernel_size=3),\n",
    "            nn.BatchNorm2d(64),\n",
    "            nn.ReLU(),\n",
    "            nn.MaxPool2d(2)\n",
    "        )\n",
    "        self.fc1 = nn.Linear(in_features=64*6*6, out_features=600)\n",
    "        self.drop = nn.Dropout2d(0.25)\n",
    "        self.fc2 = nn.Linear(in_features=600, out_features=120)\n",
    "        self.fc3 = nn.Linear(in_features=120, out_features=10)\n",
    "        self.dequant = quantization.DeQuantStub()\n",
    "        \n",
    "    def forward(self, x):\n",
    "        x = self.quant(x)\n",
    "        out = self.layer1(x)\n",
    "        out = self.layer2(out)\n",
    "        out = out.reshape(out.size(0), -1)\n",
    "        out = self.fc1(out)\n",
    "        out = self.drop(out)\n",
    "        out = self.fc2(out)\n",
    "        out = self.fc3(out)\n",
    "        out = self.dequant(out)\n",
    "        return out"
   ]
  },
  {
   "cell_type": "code",
   "execution_count": 14,
   "id": "2ca8f48d-41cf-44e2-aad9-6dc8e72aa4cd",
   "metadata": {},
   "outputs": [],
   "source": [
    "batch_size = 64\n",
    "transform = transforms.Compose([transforms.ToTensor()])\n",
    "\n",
    "train_dataset = datasets.FashionMNIST(root='./Fashion-MNIST/data', train=True, download=True, transform=transform)\n",
    "test_dataset = datasets.FashionMNIST(root='./Fashion-MNIST/data', train=False, download=True, transform=transform)\n",
    "\n",
    "train_size = int(0.8 * len(train_dataset))\n",
    "val_size = len(train_dataset) - train_size\n",
    "train_dataset, val_dataset = random_split(train_dataset, [train_size, val_size])\n",
    "\n",
    "train_loader = DataLoader(train_dataset, batch_size=batch_size, shuffle=True)\n",
    "val_loader = DataLoader(val_dataset, batch_size=batch_size, shuffle=False)\n",
    "test_loader = DataLoader(test_dataset, batch_size=batch_size, shuffle=False)"
   ]
  },
  {
   "cell_type": "code",
   "execution_count": 15,
   "id": "f7d790e4-993e-425e-885c-5303cad3d3df",
   "metadata": {},
   "outputs": [
    {
     "name": "stderr",
     "output_type": "stream",
     "text": [
      "/home/brais.martinez/.local/lib/python3.10/site-packages/torch/ao/quantization/observer.py:221: UserWarning: Please use quant_min and quant_max to specify the range for observers.                     reduce_range will be deprecated in a future release of PyTorch.\n",
      "  warnings.warn(\n"
     ]
    }
   ],
   "source": [
    "qat_model_8bit = QuantAwareFashionNN()\n",
    "\n",
    "qat_model_8bit.train()\n",
    "qat_model_8bit.qconfig = quantization.get_default_qat_qconfig('x86')\n",
    "qat_model_8bit = quantization.prepare_qat(qat_model_8bit)"
   ]
  },
  {
   "cell_type": "code",
   "execution_count": 16,
   "id": "22e25c3b-e2c0-4d1e-8e38-b5850473acf4",
   "metadata": {},
   "outputs": [],
   "source": [
    "def train(optimizer, criteria, epoch, log_interval=((len(train_loader.dataset)/batch_size)/2)-1):\n",
    "    qat_model_8bit.train()\n",
    "    \n",
    "    for batch_idx, (images, labels) in enumerate(train_loader):\n",
    "        optimizer.zero_grad()\n",
    "        output = qat_model_8bit(images)\n",
    "        loss = criteria(output, labels)\n",
    "        loss.backward()\n",
    "        optimizer.step()\n",
    "\n",
    "        if batch_idx % log_interval == 0:\n",
    "            print('Train Epoch: {} [{}/{} ({:.0f}%)]\\tLoss: {:.6f}'.format(epoch, batch_idx * len(images), len(train_loader.dataset), 100. * batch_idx / len(train_loader), loss.item()))\n",
    "\n",
    "def validate():\n",
    "    qat_model_8bit.eval()\n",
    "    \n",
    "    correct = 0\n",
    "    with torch.no_grad():\n",
    "        for images, labels in val_loader:\n",
    "            output = qat_model_8bit(images)\n",
    "            predicted = output.data.max(1, keepdim=True)[1]\n",
    "            correct += predicted.eq(labels.data.view_as(predicted)).sum()\n",
    "\n",
    "    print('\\nValidation Set Accuracy: {}/{} ({:.2f}%)\\n'.format(correct, len(val_loader.dataset), 100. * correct / len(val_loader.dataset)))"
   ]
  },
  {
   "cell_type": "code",
   "execution_count": null,
   "id": "5ebae3d0-890c-4476-99b0-034951199cb2",
   "metadata": {},
   "outputs": [
    {
     "name": "stdout",
     "output_type": "stream",
     "text": [
      "Train Epoch: 0 [0/48000 (0%)]\tLoss: 2.349167\n",
      "Train Epoch: 0 [23936/48000 (50%)]\tLoss: 1.779843\n",
      "Train Epoch: 0 [47872/48000 (100%)]\tLoss: 4.947837\n",
      "\n",
      "Validation Set Accuracy: 8383/12000 (69.86%)\n",
      "\n",
      "Train Epoch: 1 [0/48000 (0%)]\tLoss: 18.645187\n",
      "Train Epoch: 1 [23936/48000 (50%)]\tLoss: 1.362560\n",
      "Train Epoch: 1 [47872/48000 (100%)]\tLoss: 0.656857\n",
      "\n",
      "Validation Set Accuracy: 10012/12000 (83.43%)\n",
      "\n",
      "Train Epoch: 2 [0/48000 (0%)]\tLoss: 0.293116\n",
      "Train Epoch: 2 [23936/48000 (50%)]\tLoss: 0.367632\n",
      "Train Epoch: 2 [47872/48000 (100%)]\tLoss: 0.577354\n",
      "\n",
      "Validation Set Accuracy: 10448/12000 (87.07%)\n",
      "\n",
      "Train Epoch: 3 [0/48000 (0%)]\tLoss: 0.429460\n",
      "Train Epoch: 3 [23936/48000 (50%)]\tLoss: 0.838420\n",
      "Train Epoch: 3 [47872/48000 (100%)]\tLoss: 0.636501\n",
      "\n",
      "Validation Set Accuracy: 10452/12000 (87.10%)\n",
      "\n",
      "Train Epoch: 4 [0/48000 (0%)]\tLoss: 0.390725\n",
      "Train Epoch: 4 [23936/48000 (50%)]\tLoss: 0.491411\n",
      "Train Epoch: 4 [47872/48000 (100%)]\tLoss: 0.089202\n",
      "\n",
      "Validation Set Accuracy: 10485/12000 (87.38%)\n",
      "\n",
      "Train Epoch: 5 [0/48000 (0%)]\tLoss: 0.359100\n",
      "Train Epoch: 5 [23936/48000 (50%)]\tLoss: 0.236920\n",
      "Train Epoch: 5 [47872/48000 (100%)]\tLoss: 0.546157\n",
      "\n",
      "Validation Set Accuracy: 10651/12000 (88.76%)\n",
      "\n",
      "Train Epoch: 6 [0/48000 (0%)]\tLoss: 0.153737\n",
      "Train Epoch: 6 [23936/48000 (50%)]\tLoss: 0.482886\n",
      "Train Epoch: 6 [47872/48000 (100%)]\tLoss: 0.586618\n"
     ]
    }
   ],
   "source": [
    "criteria = nn.CrossEntropyLoss()\n",
    "optimizer = optim.Adam(qat_model_8bit.parameters(), lr=0.001)\n",
    "\n",
    "epochs = 10\n",
    "for epoch in range(epochs):\n",
    "    train(optimizer, criteria, epoch)\n",
    "    validate()"
   ]
  },
  {
   "cell_type": "code",
   "execution_count": null,
   "id": "d955fab3-33d8-488f-bba8-a9ddbc91def9",
   "metadata": {},
   "outputs": [],
   "source": [
    "qat_model_8bit.eval()\n",
    "qat_model_8bit = quantization.convert(qat_model_8bit)\n",
    "\n",
    "torch.save(qat_model_8bit.state_dict() , './models/FashionMNIST/qat_model_8bit.pth')\n",
    "test(qat_model_8bit, criteria)"
   ]
  },
  {
   "cell_type": "code",
   "execution_count": null,
   "id": "cd44e526-0173-450f-a584-7d47e1d8fafe",
   "metadata": {},
   "outputs": [],
   "source": [
    "float_model_size = os.path.getsize('./models/FashionMNIST/original_model.pth') / 1024**2\n",
    "quant_model_size = os.path.getsize('./models/FashionMNIST/qat_model_8bit.pth') / 1024**2\n",
    "\n",
    "print(\"Float model: {:.3f}MB\".format(float_model_size))\n",
    "print(\"Quantized model: {:.3f}MB\".format(quant_model_size))"
   ]
  },
  {
   "cell_type": "code",
   "execution_count": null,
   "id": "13912706-39cc-4cf4-88cb-d73dccae9ce0",
   "metadata": {},
   "outputs": [],
   "source": [
    "show_quantized_weights(qat_model_8bit,\"Quantized QAT 8 bit Model\")"
   ]
  },
  {
   "cell_type": "markdown",
   "id": "3881df27-c873-42d9-9863-3a64e31c15da",
   "metadata": {},
   "source": [
    "## Post-Training Quantization propio (4 bits) (simulados)"
   ]
  },
  {
   "cell_type": "code",
   "execution_count": null,
   "id": "094206dd-097c-436f-9b8a-007d29707af0",
   "metadata": {},
   "outputs": [],
   "source": [
    "def quantize_weights(tensor, bits):\n",
    "    min_val, max_val = tensor.min(), tensor.max()\n",
    "    scale = (max_val - min_val) / ((2**bits)- 1)\n",
    "    quantized_tensor = torch.round((tensor) / scale)\n",
    "    return quantized_tensor\n",
    "\n",
    "def quantize_model(model, bits = 4): #TODO: IN PROGRESS\n",
    "    quantized_model = FashionNN()\n",
    "\n",
    "    for name, param in model.named_parameters():\n",
    "        if 'weight' in name:\n",
    "            quantized_param = quantize_weights(param.data, bits)\n",
    "            try:\n",
    "                layer_name, param_type = name.split('.')\n",
    "                _ = ''\n",
    "            except:\n",
    "                layer_name, _, param_type = name.split('.')\n",
    "            layer = getattr(quantized_model, layer_name)\n",
    "            if isinstance(getattr(layer, _, param_type), torch.nn.modules.conv.Conv2d) or isinstance(getattr(layer, _, param_type), torch.nn.modules.batchnorm.BatchNorm2d) or isinstance(getattr(layer, param_type), torch.Tensor):\n",
    "                setattr(layer, param_type, nn.Parameter(quantized_param))\n",
    "            else:\n",
    "                raise ValueError(f\"Expected {param_type} to be a tensor, but got {type(getattr(layer, _, param_type))} instead.\")\n",
    "        else:\n",
    "            try:\n",
    "                layer_name, param_type = name.split('.')\n",
    "                _ = ''\n",
    "            except:\n",
    "                layer_name, _, param_type = name.split('.')\n",
    "            layer = getattr(quantized_model, layer_name)\n",
    "            setattr(layer, param_type, nn.Parameter(param.data))\n",
    "\n",
    "    return quantized_model"
   ]
  },
  {
   "cell_type": "code",
   "execution_count": null,
   "id": "e0a38a52-4447-45a1-b04d-17996c7d822d",
   "metadata": {},
   "outputs": [],
   "source": [
    "ptq_model_4bit = quantize_model(model,4)\n",
    "\n",
    "torch.save(ptq_model_4bit.state_dict(), 'models/FashionMNIST/ptq_model_4bit_sim.pth')\n",
    "test(ptq_model_4bit, criteria)"
   ]
  },
  {
   "cell_type": "code",
   "execution_count": null,
   "id": "8ac38e85-3566-4d7f-bb56-bd04e2401fcd",
   "metadata": {},
   "outputs": [],
   "source": [
    "def show_weights(network, name):\n",
    "    weights = []\n",
    "    for param in network.parameters():\n",
    "        if param.requires_grad:\n",
    "            weights.extend(param.detach().cpu().numpy().flatten())\n",
    "    \n",
    "    plt.figure(figsize=(10, 6))\n",
    "    plt.hist(weights, bins=50, edgecolor='black')\n",
    "    plt.title('Weights Distribution - {}'.format(name))\n",
    "    plt.xlabel('Weight Value')\n",
    "    plt.ylabel('Frecuency')\n",
    "    plt.grid(True)\n",
    "    plt.show()\n",
    "\n",
    "show_weights(ptq_model_4bit,\"Quantized PTQ 4 bit Model\")"
   ]
  },
  {
   "cell_type": "markdown",
   "id": "70a62b9f-066e-4c22-91fd-f41ee2bd0013",
   "metadata": {},
   "source": [
    "## Quantization Aware Training propio (4 bits)"
   ]
  },
  {
   "cell_type": "code",
   "execution_count": null,
   "id": "2b2f49a2-8409-4d36-8208-0d24bce14842",
   "metadata": {},
   "outputs": [],
   "source": [
    "import torch\n",
    "import torch.nn as nn\n",
    "import torch.optim as optim\n",
    "from torch.utils.data import DataLoader, random_split\n",
    "from torchvision import datasets, transforms\n",
    "import numpy as np\n",
    "import os\n",
    "import matplotlib.pyplot as plt\n",
    "\n",
    "from torch.ao.quantization.fake_quantize import FakeQuantize\n",
    "from torch.ao.quantization.observer import HistogramObserver, MovingAverageMinMaxObserver, MovingAveragePerChannelMinMaxObserver\n",
    "from torch.ao.quantization.qconfig import QConfig\n",
    "import torch.ao.quantization as quantization"
   ]
  },
  {
   "cell_type": "code",
   "execution_count": null,
   "id": "576d3fae-77ea-4ec9-aa97-7ba61106367a",
   "metadata": {},
   "outputs": [],
   "source": [
    "class QuantAwareFashionNN(nn.Module):\n",
    "    def __init__(self):\n",
    "        super(QuantAwareFashionNN, self).__init__()\n",
    "        self.quant = quantization.QuantStub()\n",
    "        self.layer1 = nn.Sequential(\n",
    "            nn.Conv2d(in_channels=1, out_channels=32, kernel_size=3, padding=1),\n",
    "            nn.BatchNorm2d(32),\n",
    "            nn.ReLU(),\n",
    "            nn.MaxPool2d(kernel_size=2, stride=2)\n",
    "        )\n",
    "        self.layer2 = nn.Sequential(\n",
    "            nn.Conv2d(in_channels=32, out_channels=64, kernel_size=3),\n",
    "            nn.BatchNorm2d(64),\n",
    "            nn.ReLU(),\n",
    "            nn.MaxPool2d(2)\n",
    "        )\n",
    "        self.fc1 = nn.Linear(in_features=64*6*6, out_features=600)\n",
    "        self.drop = nn.Dropout2d(0.25)\n",
    "        self.fc2 = nn.Linear(in_features=600, out_features=120)\n",
    "        self.fc3 = nn.Linear(in_features=120, out_features=10)\n",
    "        self.dequant = quantization.DeQuantStub()\n",
    "        \n",
    "    def forward(self, x):\n",
    "        x = self.quant(x)\n",
    "        out = self.layer1(x)\n",
    "        out = self.layer2(out)\n",
    "        out = out.reshape(out.size(0), -1)\n",
    "        out = self.fc1(out)\n",
    "        out = self.drop(out)\n",
    "        out = self.fc2(out)\n",
    "        out = self.fc3(out)\n",
    "        out = self.dequant(out)\n",
    "        return out"
   ]
  },
  {
   "cell_type": "code",
   "execution_count": null,
   "id": "e832fe05-3ee8-46b2-92be-6bf4695bf939",
   "metadata": {},
   "outputs": [],
   "source": [
    "batch_size = 64\n",
    "transform = transforms.Compose([transforms.ToTensor()])\n",
    "\n",
    "train_dataset = datasets.FashionMNIST(root='./Fashion-MNIST/data', train=True, download=True, transform=transform)\n",
    "test_dataset = datasets.FashionMNIST(root='./Fashion-MNIST/data', train=False, download=True, transform=transform)\n",
    "\n",
    "train_size = int(0.8 * len(train_dataset))\n",
    "val_size = len(train_dataset) - train_size\n",
    "train_dataset, val_dataset = random_split(train_dataset, [train_size, val_size])\n",
    "\n",
    "train_loader = DataLoader(train_dataset, batch_size=batch_size, shuffle=True)\n",
    "val_loader = DataLoader(val_dataset, batch_size=batch_size, shuffle=False)\n",
    "test_loader = DataLoader(test_dataset, batch_size=batch_size, shuffle=False)"
   ]
  },
  {
   "cell_type": "code",
   "execution_count": null,
   "id": "6ce82cc4-92de-4f41-89fb-03c781ec9828",
   "metadata": {},
   "outputs": [],
   "source": [
    "bits = 4\n",
    "\n",
    "act = FakeQuantize.with_args(observer=MovingAverageMinMaxObserver, quant_min=0, quant_max=int(2 ** bits - 1), dtype=torch.quint8, qscheme=torch.per_tensor_affine, reduce_range=False)\n",
    "weights = FakeQuantize.with_args(observer=MovingAveragePerChannelMinMaxObserver, quant_min=int(-(2 ** bits) / 2), quant_max=int((2 ** bits) / 2 - 1), dtype=torch.qint8, qscheme=torch.per_channel_symmetric, reduce_range=False)\n",
    "\n",
    "qat_model_4bit = QuantAwareFashionNN()\n",
    "\n",
    "qat_model_4bit.qconfig = quantization.get_default_qat_qconfig('x86')\n",
    "qat_model_4bit.qconfig = quantization.qconfig.QConfig(activation=act, weight=weights)\n",
    "qat_model_4bit = quantization.prepare_qat(qat_model_4bit)"
   ]
  },
  {
   "cell_type": "code",
   "execution_count": null,
   "id": "86c382f4-2cc3-4f0c-8b1d-d6f4997d5bac",
   "metadata": {},
   "outputs": [],
   "source": [
    "def train(optimizer, criteria, epoch, log_interval=((len(train_loader.dataset)/batch_size)/2)-1):\n",
    "    qat_model_4bit.train()\n",
    "    \n",
    "    for batch_idx, (images, labels) in enumerate(train_loader):\n",
    "        optimizer.zero_grad()\n",
    "        output = qat_model_4bit(images)\n",
    "        loss = criteria(output, labels)\n",
    "        loss.backward()\n",
    "        optimizer.step()\n",
    "\n",
    "        if batch_idx % log_interval == 0:\n",
    "            print('Train Epoch: {} [{}/{} ({:.0f}%)]\\tLoss: {:.6f}'.format(epoch, batch_idx * len(images), len(train_loader.dataset), 100. * batch_idx / len(train_loader), loss.item()))\n",
    "\n",
    "def validate():\n",
    "    qat_model_4bit.eval()\n",
    "    \n",
    "    correct = 0\n",
    "    with torch.no_grad():\n",
    "        for images, labels in val_loader:\n",
    "            output = qat_model_4bit(images)\n",
    "            predicted = output.data.max(1, keepdim=True)[1]\n",
    "            correct += predicted.eq(labels.data.view_as(predicted)).sum()\n",
    "\n",
    "    print('\\nValidation Set Accuracy: {}/{} ({:.2f}%)\\n'.format(correct, len(val_loader.dataset), 100. * correct / len(val_loader.dataset)))"
   ]
  },
  {
   "cell_type": "code",
   "execution_count": null,
   "id": "8f4908c5-e2cc-40c9-b561-c6e192feb659",
   "metadata": {},
   "outputs": [],
   "source": [
    "criteria = nn.CrossEntropyLoss()\n",
    "optimizer = optim.Adam(qat_model_4bit.parameters(), lr=0.001)\n",
    "\n",
    "epochs = 10\n",
    "for epoch in range(epochs):\n",
    "    train(optimizer, criteria, epoch)\n",
    "    validate()"
   ]
  },
  {
   "cell_type": "code",
   "execution_count": null,
   "id": "e4798f40-368f-439d-9455-2fa29104d7dd",
   "metadata": {},
   "outputs": [],
   "source": [
    "qat_model_4bit.eval()\n",
    "qat_model_4bit = quantization.convert(qat_model_4bit)\n",
    "\n",
    "torch.save(qat_model_4bit.state_dict() , './models/FashionMNIST/qat_model_4bit.pth')\n",
    "test(qat_model_4bit, criteria)"
   ]
  },
  {
   "cell_type": "code",
   "execution_count": null,
   "id": "b6ec3fe0-fb86-4141-b329-2aed2f28c831",
   "metadata": {},
   "outputs": [],
   "source": [
    "float_model_size = os.path.getsize('./models/FashionMNIST/original_model.pth') / 1024**2\n",
    "quant_model_size = os.path.getsize('./models/FashionMNIST/qat_model_4bit.pth') / 1024**2\n",
    "\n",
    "print(\"Float model: {:.3f}MB\".format(float_model_size))\n",
    "print(\"Quantized model: {:.3f}MB\".format(quant_model_size))"
   ]
  },
  {
   "cell_type": "code",
   "execution_count": null,
   "id": "818e5518-59d2-4bf1-b101-5f734cb4c42c",
   "metadata": {},
   "outputs": [],
   "source": [
    "show_quantized_weights(qat_model_4bit,\"Quantized QAT 4 bit Model\")"
   ]
  }
 ],
 "metadata": {
  "kernelspec": {
   "display_name": "Python 3 (ipykernel)",
   "language": "python",
   "name": "python3"
  },
  "language_info": {
   "codemirror_mode": {
    "name": "ipython",
    "version": 3
   },
   "file_extension": ".py",
   "mimetype": "text/x-python",
   "name": "python",
   "nbconvert_exporter": "python",
   "pygments_lexer": "ipython3",
   "version": "3.10.12"
  }
 },
 "nbformat": 4,
 "nbformat_minor": 5
}
